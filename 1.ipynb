{
 "cells": [
  {
   "cell_type": "markdown",
   "id": "65dde4da-8ed4-49ba-b849-ced306e21fab",
   "metadata": {},
   "source": [
    "SO, let's learn about GIT breifly\n",
    "I follow up a toturial and try to abstract it here for fast view during the neccossary assessments."
   ]
  },
  {
   "cell_type": "markdown",
   "id": "9d5495b2-8e78-4f4b-81ff-8744950ca329",
   "metadata": {
    "tags": []
   },
   "source": [
    "Let's start with installing:\n",
    "Go to there: https://git-scm.com/book/en/v2/Getting-Started-Installing-Git and follow up the instruction. If you are on a Debian-based distribution, such as Ubuntu, it should be something like this:\n",
    "Simply open Terminal (ctrl+alt+t) then"
   ]
  },
  {
   "cell_type": "raw",
   "id": "65e6ab9d-b4b3-4235-bada-1c5e167453b3",
   "metadata": {},
   "source": [
    "sudo apt install git-all"
   ]
  },
  {
   "cell_type": "markdown",
   "id": "2d9434a5-93a4-4b5f-96ff-4f24676e3b2c",
   "metadata": {},
   "source": [
    "In order to make sure you have installed git, type:"
   ]
  },
  {
   "cell_type": "raw",
   "id": "3d63d3bd-3eca-4ae3-8cae-8d3ff5413bed",
   "metadata": {},
   "source": [
    "git --version"
   ]
  },
  {
   "cell_type": "markdown",
   "id": "a95fd556-f667-41ae-a963-d83b598fde93",
   "metadata": {},
   "source": [
    "Then you should have somthing like this in the output:"
   ]
  },
  {
   "cell_type": "markdown",
   "id": "abfa24ae-5fc5-4db6-8fb9-b484680da1ad",
   "metadata": {},
   "source": [
    "git version 2.36.0"
   ]
  },
  {
   "cell_type": "markdown",
   "id": "e87f9b54-f0e4-4eca-9ff1-5a763faad0b5",
   "metadata": {},
   "source": [
    "So, after instalation you should know some basic command line orders; every git line start with \"git\", I mean something like this:"
   ]
  },
  {
   "cell_type": "raw",
   "id": "6468079f-109e-48dd-9eb2-e035b67f49ee",
   "metadata": {},
   "source": [
    "git ...    # ... is what you want from git"
   ]
  },
  {
   "cell_type": "markdown",
   "id": "5a995da0-1bfa-4302-ae96-11d5d256854f",
   "metadata": {},
   "source": [
    "fisrt of all you should start with \"init\" for initialization. Go (or make) to your desier folder and then init the git:"
   ]
  },
  {
   "cell_type": "markdown",
   "id": "f443924b-fa52-4683-ba6d-799ab38d14ba",
   "metadata": {},
   "source": [
    "mkdir tmp\n",
    "cd tmp\n",
    "git init"
   ]
  },
  {
   "cell_type": "markdown",
   "id": "7d8f0e48-eb39-4bdb-8c38-69fb6caaff08",
   "metadata": {},
   "source": [
    "Then you will get something like this:"
   ]
  },
  {
   "cell_type": "raw",
   "id": "fc804423-1015-4fdb-be31-e5cd0ae65cb9",
   "metadata": {},
   "source": [
    "hint: Using 'master' as the name for the initial branch. This default branch name\n",
    "hint: is subject to change. To configure the initial branch name to use in all\n",
    "hint: of your new repositories, which will suppress this warning, call:\n",
    "hint: \n",
    "hint: \tgit config --global init.defaultBranch <name>\n",
    "hint: \n",
    "hint: Names commonly chosen instead of 'master' are 'main', 'trunk' and\n",
    "hint: 'development'. The just-created branch can be renamed via this command:\n",
    "hint: \n",
    "hint: \tgit branch -m <name>\n",
    "Initialized empty Git repository in /home/aminator/Desktop/tmp/.git/"
   ]
  },
  {
   "cell_type": "markdown",
   "id": "1e73f2e3-f974-4851-bd40-512991fc59d2",
   "metadata": {},
   "source": [
    "Then, by using following code:"
   ]
  },
  {
   "cell_type": "markdown",
   "id": "2443ab6f-9fb9-4a7d-ab37-a466a2f6b734",
   "metadata": {},
   "source": [
    "git status"
   ]
  },
  {
   "cell_type": "markdown",
   "id": "3eea5c1a-1029-48dd-a690-9abf7ab42949",
   "metadata": {},
   "source": [
    "You will be able to see:"
   ]
  },
  {
   "cell_type": "raw",
   "id": "d876ac8a-300b-4f0c-878a-1b0b531f3c25",
   "metadata": {},
   "source": [
    "On branch master\n",
    "\n",
    "No commits yet\n",
    "\n",
    "nothing to commit (create/copy files and use \"git add\" to track)"
   ]
  },
  {
   "cell_type": "markdown",
   "id": "bb083a3f-ce9b-4e28-a4a0-82436f89b624",
   "metadata": {},
   "source": [
    "Ok, so I thing that would be enough for first session. as a summary here are the new thing we learned:"
   ]
  },
  {
   "cell_type": "raw",
   "id": "e78dbce0-4510-4ac1-a88f-312de1ba4cf6",
   "metadata": {},
   "source": [
    "git --version  # The version of the current installed git\n",
    "git init       # git initiation in the current folder\n",
    "git status     # status and details of current conditions"
   ]
  },
  {
   "cell_type": "markdown",
   "id": "a87291e8-27de-4668-ac3e-8a5bea9c1d7a",
   "metadata": {},
   "source": [
    "See in the next session."
   ]
  }
 ],
 "metadata": {
  "kernelspec": {
   "display_name": "Python 3 (ipykernel)",
   "language": "python",
   "name": "python3"
  },
  "language_info": {
   "codemirror_mode": {
    "name": "ipython",
    "version": 3
   },
   "file_extension": ".py",
   "mimetype": "text/x-python",
   "name": "python",
   "nbconvert_exporter": "python",
   "pygments_lexer": "ipython3",
   "version": "3.9.7"
  }
 },
 "nbformat": 4,
 "nbformat_minor": 5
}
